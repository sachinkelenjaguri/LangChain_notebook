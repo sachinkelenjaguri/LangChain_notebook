{
 "cells": [
  {
   "cell_type": "code",
   "execution_count": 42,
   "metadata": {},
   "outputs": [],
   "source": [
    "import re\n",
    "import requests\n",
    "from bs4 import BeautifulSoup \n",
    "import pickle\n",
    "import json\n",
    "from tqdm import tqdm\n",
    "import torch\n",
    "from elasticsearch import Elasticsearch\n",
    "from sentence_transformers import SentenceTransformer, util\n",
    "from langchain.chains.summarize import load_summarize_chain\n",
    "from langchain import PromptTemplate, HuggingFaceHub, LLMChain\n",
    "from langchain.llms import HuggingFacePipeline\n",
    "from transformers import AutoTokenizer, pipeline, AutoModelForSeq2SeqLM\n",
    "from langchain.chains.summarize import load_summarize_chain\n",
    "from langchain.docstore.document import Document"
   ]
  },
  {
   "attachments": {},
   "cell_type": "markdown",
   "metadata": {},
   "source": [
    "### this set up is to intergrate the langchain on already existed Elasticsearch index\n",
    "#### dependencies as follows\n",
    "#### langchain = 0.0.190\n",
    "#### python 3.11.0\n"
   ]
  },
  {
   "cell_type": "code",
   "execution_count": 43,
   "metadata": {},
   "outputs": [],
   "source": [
    "client = Elasticsearch(\n",
    "     cloud_id=\"\",\n",
    "     basic_auth=(\"\", \"\"),\n",
    "    )\n",
    "\n",
    "embedder = SentenceTransformer('sentence-transformers/msmarco-roberta-base-v2')\n",
    "device = torch.device('cuda:0')"
   ]
  },
  {
   "cell_type": "code",
   "execution_count": 55,
   "metadata": {},
   "outputs": [],
   "source": [
    "def text_similarity_search(question):\n",
    "  user_query=question\n",
    "  query_vector=embedder.encode([user_query][0]).tolist()\n",
    "  response_knn = client.search(\n",
    "          index=\"your_ES_Index_Name\",\n",
    "          body={   \n",
    "          \"size\":1 ,     \n",
    "            \"knn\": {\n",
    "                  \"field\": \"para_vector\",\n",
    "                  \"query_vector\": query_vector,\n",
    "                  \"k\": 10,\n",
    "                  \"num_candidates\": 100\n",
    "                  \n",
    "                  }\n",
    "              }                \n",
    "              )\n",
    "  result=response_knn['hits']['hits'][0]['_source']['your_text_key']\n",
    "  return result"
   ]
  },
  {
   "cell_type": "code",
   "execution_count": 82,
   "metadata": {},
   "outputs": [
    {
     "name": "stdout",
     "output_type": "stream",
     "text": [
      ">> Prep. Get google/flan-t5-large ready to go\n",
      ">> Prep. Get google/flan-t5-large ready to go\n"
     ]
    }
   ],
   "source": [
    "\n",
    "\n",
    "topic = \"search\"\n",
    "index_name = \"book_wookieepedia_small1\"\n",
    "\n",
    "cache_dir = \"./cache\"\n",
    "\n",
    "def getFlanLarge():\n",
    "    model_id = 'google/flan-t5-large'\n",
    "    print(f\">> Prep. Get {model_id} ready to go\")\n",
    "    tokenizer = AutoTokenizer.from_pretrained(model_id) \n",
    "    model = AutoModelForSeq2SeqLM.from_pretrained(\n",
    "        model_id, cache_dir=cache_dir) \n",
    "    \n",
    "    pipe = pipeline(\n",
    "        \"text2text-generation\",\n",
    "        model=model, \n",
    "        tokenizer=tokenizer, \n",
    "        max_length=100\n",
    "    )\n",
    "    llm = HuggingFacePipeline(pipeline=pipe)\n",
    "    return llm\n",
    "\n",
    "def make_the_llm():\n",
    "    template_informed = \"\"\"\n",
    "      AI that answers questions. When I don't know the answer withsome meaningfull words. \n",
    "    I know context: {context}\n",
    "    when asked: {question}\n",
    "    my response using only information in the context is: \"\"\"\n",
    "\n",
    "    prompt_informed = PromptTemplate(template=template_informed, input_variables=[\"context\", \"question\"])\n",
    "\n",
    "    llm = getFlanLarge()\n",
    "\n",
    "    return LLMChain(prompt=prompt_informed, llm=llm)\n",
    "\n",
    "llm_chain_informed= make_the_llm()\n",
    "\n",
    "\n",
    "def sumary_llm():\n",
    "    prompt_template = \"\"\"Write a summary of the following:\n",
    "\n",
    "    {text}\"\"\"\n",
    "    \n",
    "    PROMPT = PromptTemplate(template=prompt_template, input_variables=[\"text\"])\n",
    "    return  load_summarize_chain(getFlanLarge(), chain_type=\"stuff\", prompt=PROMPT)\n",
    "   \n",
    "\n",
    "llm_summary=sumary_llm()"
   ]
  },
  {
   "cell_type": "code",
   "execution_count": null,
   "metadata": {},
   "outputs": [],
   "source": []
  },
  {
   "attachments": {},
   "cell_type": "markdown",
   "metadata": {},
   "source": [
    "## generate QnA and Summary for the given question based on the nest extracted output from ES"
   ]
  },
  {
   "cell_type": "code",
   "execution_count": null,
   "metadata": {},
   "outputs": [],
   "source": [
    "\n",
    "## how to ask a question\n",
    "def ask_a_question(question):\n",
    "    similar_docs = text_similarity_search(question)\n",
    "    informed_context= similar_docs\n",
    "    informed_response = llm_chain_informed.run(context=informed_context,question=question)\n",
    "    summary=llm_summary.run([Document(page_content=similar_docs, metadata={})])\n",
    "    \n",
    "    return [informed_response,informed_context,summary]\n",
    "\n",
    "\n",
    "\n",
    "\n",
    "print(f'Ask me any question about {topic}')\n",
    "\n",
    "while True:\n",
    "    question = input(\"User Question >> \")\n",
    "    \n",
    "    response= ask_a_question(question)[0]\n",
    "    print('contaxt :',ask_a_question(question)[1])\n",
    "    print('summary :',ask_a_question(question)[2])\n",
    "    print(f\"\\tAnswer  : {response}\")\n",
    "    break\n"
   ]
  }
 ],
 "metadata": {
  "kernelspec": {
   "display_name": "Python 3",
   "language": "python",
   "name": "python3"
  },
  "language_info": {
   "codemirror_mode": {
    "name": "ipython",
    "version": 3
   },
   "file_extension": ".py",
   "mimetype": "text/x-python",
   "name": "python",
   "nbconvert_exporter": "python",
   "pygments_lexer": "ipython3",
   "version": "3.11.0"
  },
  "orig_nbformat": 4
 },
 "nbformat": 4,
 "nbformat_minor": 2
}
